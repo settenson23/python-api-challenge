{
 "cells": [
  {
   "cell_type": "markdown",
   "metadata": {},
   "source": [
    "# WeatherPy\n",
    "----\n",
    "\n",
    "#### Note\n",
    "* Instructions have been included for each segment. You do not have to follow them exactly, but they are included to help you think through the steps."
   ]
  },
  {
   "cell_type": "code",
   "execution_count": 3,
   "metadata": {
    "scrolled": true
   },
   "outputs": [],
   "source": [
    "# Dependencies and Setup\n",
    "import matplotlib.pyplot as plt\n",
    "import pandas as pd\n",
    "import numpy as np\n",
    "import requests\n",
    "import time\n",
    "from scipy.stats import linregress\n",
    "\n",
    "# Import API key\n",
    "from api_keys import weather_api_key\n",
    "\n",
    "# Incorporated citipy to determine city based on latitude and longitude\n",
    "from citipy import citipy\n",
    "\n",
    "# Output File (CSV)\n",
    "output_data_file = \"output_data/cities.csv\"\n",
    "\n",
    "# Range of latitudes and longitudes\n",
    "lat_range = (-90, 90)\n",
    "lng_range = (-180, 180)"
   ]
  },
  {
   "cell_type": "markdown",
   "metadata": {},
   "source": [
    "## Generate Cities List"
   ]
  },
  {
   "cell_type": "code",
   "execution_count": 4,
   "metadata": {},
   "outputs": [
    {
     "data": {
      "text/plain": [
       "634"
      ]
     },
     "execution_count": 4,
     "metadata": {},
     "output_type": "execute_result"
    }
   ],
   "source": [
    "# List for holding lat_lngs and cities\n",
    "lat_lngs = []\n",
    "cities = []\n",
    "\n",
    "# Create a set of random lat and lng combinations\n",
    "lats = np.random.uniform(low=-90.000, high=90.000, size=1500)\n",
    "lngs = np.random.uniform(low=-180.000, high=180.000, size=1500)\n",
    "lat_lngs = zip(lats, lngs)\n",
    "\n",
    "# Identify nearest city for each lat, lng combination\n",
    "for lat_lng in lat_lngs:\n",
    "    city = citipy.nearest_city(lat_lng[0], lat_lng[1]).city_name\n",
    "    \n",
    "    # If the city is unique, then add it to a our cities list\n",
    "    if city not in cities:\n",
    "        cities.append(city)\n",
    "\n",
    "# Print the city count to confirm sufficient count\n",
    "len(cities)"
   ]
  },
  {
   "cell_type": "markdown",
   "metadata": {},
   "source": [
    "### Perform API Calls\n",
    "* Perform a weather check on each city using a series of successive API calls.\n",
    "* Include a print log of each city as it'sbeing processed (with the city number and city name).\n"
   ]
  },
  {
   "cell_type": "code",
   "execution_count": 5,
   "metadata": {},
   "outputs": [],
   "source": [
    "# Url From openweather for API call\n",
    "url = \"http://api.openweathermap.org/data/2.5/weather?units=Imperial&\"\n",
    "\n",
    "# Lists for storing values\n",
    "city_name = []\n",
    "country = []\n",
    "latitude = []\n",
    "longitude = []\n",
    "max_temperature = []\n",
    "humidity = []\n",
    "wind_speed = []\n",
    "cloudiness = []"
   ]
  },
  {
   "cell_type": "code",
   "execution_count": 6,
   "metadata": {},
   "outputs": [
    {
     "name": "stdout",
     "output_type": "stream",
     "text": [
      "1|ushuaia\n",
      "2|brae\n",
      "3|bambous virieux\n",
      "4|bredasdorp\n",
      "City name not found.\n",
      "5|riverton\n",
      "6|busselton\n",
      "7|jamestown\n",
      "8|yumen\n",
      "9|ust-kuyga\n",
      "10|souillac\n",
      "11|kharan\n",
      "City name not found.\n",
      "12|mahebourg\n",
      "13|wakkanai\n",
      "14|vao\n",
      "15|ancud\n",
      "16|airai\n",
      "17|thompson\n",
      "18|gabrovo\n",
      "19|hobart\n",
      "City name not found.\n",
      "20|kabare\n",
      "21|vaini\n",
      "22|luderitz\n",
      "23|boguchany\n",
      "24|ankang\n",
      "25|georgetown\n",
      "26|marystown\n",
      "27|male\n",
      "28|anupgarh\n",
      "29|hermanus\n",
      "30|meulaboh\n",
      "31|beringovskiy\n",
      "32|bethel\n",
      "33|kodiak\n",
      "34|hilo\n",
      "35|rikitea\n",
      "36|dir\n",
      "37|angoche\n",
      "38|tuatapere\n",
      "39|limoges\n",
      "40|kapaa\n",
      "41|avarua\n",
      "42|klaksvik\n",
      "43|mataura\n",
      "City name not found.\n",
      "44|aswan\n",
      "45|palestine\n",
      "46|tiksi\n",
      "47|victoria\n",
      "48|atuona\n",
      "49|marzuq\n",
      "50|narsaq\n",
      "51|saint-philippe\n",
      "52|babaeski\n",
      "53|awallan\n",
      "54|sao joao da barra\n",
      "55|tuktoyaktuk\n",
      "56|salalah\n",
      "City name not found.\n",
      "57|fort nelson\n",
      "58|port blair\n",
      "59|carahue\n",
      "60|pevek\n",
      "61|sitka\n",
      "62|punta arenas\n",
      "63|urubamba\n",
      "64|saldanha\n",
      "65|ambilobe\n",
      "66|ibia\n",
      "67|punganuru\n",
      "68|nieuw amsterdam\n",
      "69|urumqi\n",
      "70|new norfolk\n",
      "71|acarau\n",
      "72|billings\n",
      "73|yulara\n",
      "74|richards bay\n",
      "75|inongo\n",
      "76|butaritari\n",
      "77|verkhoyansk\n",
      "78|nouakchott\n",
      "79|kaitangata\n",
      "80|chokurdakh\n",
      "81|khatanga\n",
      "82|dingle\n",
      "83|taltal\n",
      "84|clyde river\n",
      "85|grand gaube\n",
      "86|samarai\n",
      "87|rognan\n",
      "88|sao miguel do araguaia\n",
      "89|oranjemund\n",
      "90|hamilton\n",
      "91|touros\n",
      "92|thai binh\n",
      "93|ponta do sol\n",
      "94|tasiilaq\n",
      "95|boyolangu\n",
      "96|bambanglipuro\n",
      "97|cabo san lucas\n",
      "98|emerald\n",
      "99|albany\n",
      "100|arosa\n",
      "101|bluff\n",
      "102|port hardy\n",
      "103|geraldton\n",
      "104|carnarvon\n",
      "City name not found.\n",
      "105|cape town\n",
      "106|abaete\n",
      "107|codrington\n",
      "108|ayr\n",
      "109|qaanaaq\n",
      "110|san patricio\n",
      "111|haines junction\n",
      "112|te anau\n",
      "113|noumea\n",
      "114|banff\n",
      "City name not found.\n",
      "115|depew\n",
      "116|barrow\n",
      "117|linares\n",
      "City name not found.\n",
      "118|motygino\n",
      "119|katobu\n",
      "120|dwarka\n",
      "121|palmer\n",
      "122|kamenka\n",
      "123|port alfred\n",
      "124|mahon\n",
      "125|rapid valley\n",
      "126|provideniya\n",
      "127|phangnga\n",
      "128|manali\n",
      "129|vila velha\n",
      "130|westport\n",
      "131|constitucion\n",
      "132|ballina\n",
      "City name not found.\n",
      "133|severo-kurilsk\n",
      "134|lagoa\n",
      "City name not found.\n",
      "135|japura\n",
      "136|vinces\n",
      "137|charleston\n",
      "138|dehloran\n",
      "139|bandarbeyla\n",
      "140|cayenne\n",
      "141|san vicente\n",
      "142|monduli\n",
      "143|marsabit\n",
      "144|padang\n",
      "145|mar del plata\n",
      "City name not found.\n",
      "146|kaya\n",
      "147|lamu\n",
      "148|port elizabeth\n",
      "149|ahuimanu\n",
      "150|shenjiamen\n",
      "151|acapulco\n",
      "152|saint george\n",
      "153|sistranda\n",
      "154|kishtwar\n",
      "155|coquimbo\n",
      "City name not found.\n",
      "156|pontianak\n",
      "157|esmeraldas\n",
      "158|matara\n",
      "159|asfi\n",
      "160|kaeo\n",
      "161|faanui\n",
      "162|sindor\n",
      "163|hithadhoo\n",
      "City name not found.\n",
      "164|guerrero negro\n",
      "165|filingue\n",
      "166|margate\n",
      "167|sinnamary\n",
      "168|saskylakh\n",
      "169|shankargarh\n",
      "170|muros\n",
      "City name not found.\n",
      "171|sambava\n",
      "City name not found.\n",
      "172|naze\n",
      "173|egvekinot\n",
      "174|norman wells\n",
      "175|isangel\n",
      "176|rovinj\n",
      "City name not found.\n",
      "177|neuquen\n",
      "178|castro\n",
      "179|mayo\n",
      "180|aykhal\n",
      "181|waingapu\n",
      "182|port macquarie\n",
      "183|onguday\n",
      "184|bengkulu\n",
      "185|arraial do cabo\n",
      "186|boyuibe\n",
      "187|san ramon\n",
      "188|southbridge\n",
      "189|kirakira\n",
      "City name not found.\n",
      "190|puerto ayora\n",
      "191|opuwo\n",
      "192|broken hill\n",
      "193|fare\n",
      "194|vizinga\n",
      "195|mitsamiouli\n",
      "196|berlevag\n",
      "197|san cristobal\n",
      "198|maniitsoq\n",
      "199|hervey bay\n",
      "200|keflavik\n",
      "201|nikolskoye\n",
      "City name not found.\n",
      "202|cidreira\n",
      "203|nanortalik\n",
      "204|linhares\n",
      "City name not found.\n",
      "205|dikson\n",
      "206|salta\n",
      "207|gambela\n",
      "208|teya\n",
      "209|san quintin\n",
      "210|george\n",
      "211|port moresby\n",
      "212|ostrovnoy\n",
      "213|redcar\n",
      "214|mujiayingzi\n",
      "215|hof\n",
      "216|lebu\n",
      "217|emba\n",
      "218|beibei\n",
      "City name not found.\n",
      "219|nome\n",
      "220|mibu\n",
      "221|tripoli\n",
      "222|necochea\n",
      "City name not found.\n",
      "223|kidal\n",
      "224|ningxiang\n",
      "225|bath\n",
      "226|mecca\n",
      "227|atikokan\n",
      "228|longyearbyen\n",
      "229|annau\n",
      "230|tabas\n",
      "231|kano\n",
      "232|north platte\n",
      "233|wajima\n",
      "234|vostok\n",
      "235|bosaso\n",
      "City name not found.\n",
      "236|anaconda\n",
      "237|esperance\n",
      "238|saint-pierre\n",
      "239|ponta delgada\n",
      "240|bulawayo\n",
      "241|katsuura\n",
      "242|komsomolskiy\n",
      "243|consuegra\n",
      "244|kyabe\n",
      "245|yellowknife\n",
      "246|iqaluit\n",
      "247|ilulissat\n",
      "248|namibe\n",
      "249|ixtapa\n",
      "250|evensk\n",
      "251|buchanan\n",
      "252|alegrete\n",
      "City name not found.\n",
      "253|yichun\n",
      "254|ardatov\n",
      "255|hualmay\n",
      "256|russell\n",
      "257|filadelfia\n",
      "258|victor harbor\n",
      "259|gwanda\n",
      "260|nizwa\n",
      "261|ikalamavony\n",
      "262|nishihara\n",
      "263|itarema\n",
      "264|arlit\n",
      "265|cossato\n",
      "266|hasaki\n",
      "267|yerbogachen\n",
      "268|upernavik\n",
      "269|dzaoudzi\n",
      "270|namie\n",
      "271|grand-santi\n",
      "272|peleduy\n",
      "273|dicabisagan\n",
      "274|olga\n",
      "City name not found.\n",
      "275|moryakovskiy zaton\n",
      "276|ahipara\n",
      "277|loubomo\n",
      "278|manta\n",
      "279|thinadhoo\n",
      "280|amalapuram\n",
      "281|dickinson\n",
      "282|ciudad bolivar\n",
      "283|qeshm\n",
      "284|praia\n",
      "285|kruisfontein\n",
      "286|yar-sale\n",
      "287|salisbury\n",
      "288|hambantota\n",
      "289|rocha\n",
      "290|poum\n",
      "291|madimba\n",
      "292|chandia\n",
      "293|coos bay\n",
      "294|nizhniy tsasuchey\n",
      "295|lorengau\n",
      "296|torbay\n",
      "297|miyazu\n",
      "298|hofn\n",
      "299|raymond\n",
      "City name not found.\n",
      "300|tuy hoa\n",
      "301|bathsheba\n",
      "302|santa maria\n",
      "303|talnakh\n",
      "304|lewiston\n",
      "305|eureka\n",
      "306|tessalit\n",
      "307|ketchikan\n",
      "308|ust-tsilma\n",
      "309|codajas\n",
      "City name not found.\n",
      "310|karratha\n",
      "311|kasongo\n",
      "312|kanel\n",
      "313|loralai\n",
      "314|todos santos\n",
      "315|bilma\n",
      "316|edea\n",
      "317|kota kinabalu\n",
      "318|aktash\n",
      "319|banda aceh\n",
      "320|la virtud\n",
      "321|srednekolymsk\n",
      "City name not found.\n",
      "322|yatou\n",
      "323|bay roberts\n",
      "324|hirara\n",
      "325|adre\n",
      "326|xai-xai\n",
      "327|tangshan\n",
      "328|oriximina\n",
      "329|kamaishi\n",
      "330|abu samrah\n",
      "City name not found.\n",
      "331|marsh harbour\n",
      "332|hobe sound\n",
      "333|lazaro cardenas\n",
      "334|kalemie\n",
      "335|grojec\n",
      "City name not found.\n",
      "336|alice springs\n",
      "337|svetlyy\n",
      "338|carhuamayo\n",
      "339|port pirie\n",
      "340|cockburn town\n",
      "341|mugur-aksy\n",
      "342|sao filipe\n",
      "343|coihaique\n",
      "344|kavaratti\n",
      "345|vila franca do campo\n",
      "346|mount gambier\n",
      "347|guaratinga\n",
      "348|kahului\n",
      "349|seoul\n",
      "350|atlantic beach\n",
      "351|amahai\n",
      "352|green river\n",
      "353|samfya\n",
      "354|khandyga\n",
      "355|aklavik\n",
      "356|muana\n",
      "357|itaituba\n",
      "358|soyo\n",
      "359|coxim\n",
      "360|saint-michel-des-saints\n",
      "361|virginia beach\n",
      "362|tanout\n",
      "363|ino\n",
      "364|najran\n",
      "365|zhovtneve\n",
      "366|puerto escondido\n",
      "367|cherskiy\n",
      "368|kudahuvadhoo\n",
      "369|vieste\n",
      "370|iznoski\n",
      "371|zambezi\n",
      "372|tymovskoye\n",
      "373|odda\n",
      "374|mogwase\n",
      "375|auch\n",
      "376|whitehorse\n",
      "377|kasongo-lunda\n",
      "378|east london\n",
      "379|carballo\n",
      "380|louga\n",
      "381|northam\n",
      "382|ekhabi\n",
      "383|olafsvik\n",
      "City name not found.\n",
      "384|krasnik\n",
      "385|talkha\n",
      "386|crib point\n",
      "387|kalmunai\n",
      "388|iaciara\n",
      "389|bardiyah\n",
      "390|lumajang\n",
      "391|simplicio mendes\n",
      "392|teguldet\n",
      "393|kununurra\n",
      "394|kousseri\n",
      "395|tabou\n",
      "396|mendi\n",
      "397|shenkursk\n",
      "398|zhuzhou\n",
      "399|whitecourt\n",
      "400|krasnoselkup\n",
      "401|remanso\n",
      "City name not found.\n",
      "402|apricena\n",
      "403|walvis bay\n",
      "404|flinders\n",
      "405|pundaguitan\n",
      "406|fortuna\n",
      "407|lompoc\n",
      "408|kutum\n",
      "409|la ronge\n",
      "410|miracema do tocantins\n",
      "411|koungou\n",
      "412|havelock\n",
      "413|ryotsu\n",
      "414|vukovar\n",
      "415|marawi\n",
      "City name not found.\n",
      "416|kalanguy\n",
      "City name not found.\n",
      "City name not found.\n",
      "417|yozgat\n",
      "418|ratne\n",
      "419|kieta\n",
      "420|caluquembe\n",
      "City name not found.\n",
      "421|las margaritas\n",
      "422|dumas\n",
      "423|donskoye\n",
      "424|dudinka\n",
      "425|kikuchi\n",
      "426|lunca banului\n",
      "427|avera\n",
      "428|gigmoto\n",
      "City name not found.\n",
      "429|opunake\n",
      "430|broome\n",
      "431|aranos\n",
      "432|iberia\n",
      "433|chuy\n",
      "434|tombouctou\n",
      "City name not found.\n",
      "435|grindavik\n",
      "436|puerto baquerizo moreno\n",
      "437|ndele\n",
      "438|biak\n",
      "City name not found.\n",
      "439|lasem\n",
      "440|verkh-chebula\n",
      "441|neiafu\n",
      "442|qaqortoq\n",
      "443|paamiut\n",
      "444|ust-nera\n",
      "City name not found.\n",
      "445|maralal\n",
      "446|leshukonskoye\n",
      "447|havoysund\n",
      "City name not found.\n",
      "448|port augusta\n",
      "449|sidney\n",
      "450|koumac\n",
      "City name not found.\n",
      "451|shingu\n",
      "452|clearwater\n",
      "453|middle island\n",
      "454|havre-saint-pierre\n",
      "City name not found.\n",
      "455|pianoro\n",
      "456|pimenta bueno\n",
      "457|vanavara\n",
      "458|phan thiet\n",
      "459|pisco\n",
      "460|zapolyarnyy\n",
      "City name not found.\n",
      "461|umm kaddadah\n",
      "462|alofi\n",
      "463|san andres\n",
      "464|manzhouli\n",
      "465|fereydun kenar\n",
      "466|trat\n",
      "467|kloulklubed\n",
      "468|hovd\n",
      "469|deputatskiy\n",
      "470|toktogul\n",
      "471|kuito\n",
      "472|makakilo city\n",
      "473|portland\n",
      "474|mildura\n",
      "475|osakarovka\n",
      "476|abu zabad\n",
      "477|xining\n",
      "478|tilichiki\n",
      "479|dabola\n",
      "480|goma\n",
      "481|sudak\n",
      "482|leningradskiy\n",
      "483|mitchell\n",
      "484|vestmannaeyjar\n",
      "485|lieksa\n",
      "486|yumbel\n",
      "487|cascais\n",
      "488|skibbereen\n",
      "489|kalabo\n",
      "490|rorvik\n",
      "491|rio gallegos\n",
      "492|taos\n",
      "493|coahuayana\n",
      "City name not found.\n",
      "City name not found.\n",
      "City name not found.\n",
      "494|kavieng\n",
      "495|kampot\n",
      "496|tura\n",
      "497|rio branco\n",
      "498|nong chik\n",
      "499|ust-maya\n",
      "500|pathein\n",
      "501|qiqihar\n",
      "502|tadine\n",
      "503|tiznit\n",
      "City name not found.\n",
      "504|bonfim\n",
      "505|riberalta\n",
      "506|shimanovsk\n",
      "507|manggar\n",
      "508|dedza\n",
      "509|volksrust\n",
      "510|sulangan\n",
      "511|west bay\n",
      "512|villacarrillo\n",
      "513|pitimbu\n",
      "514|malanje\n",
      "515|mae ramat\n",
      "516|porto novo\n",
      "517|kidero\n",
      "518|namatanai\n",
      "519|asau\n",
      "520|shu\n",
      "521|loviisa\n",
      "522|hami\n",
      "523|zhengjiatun\n",
      "524|jiblah\n",
      "525|zhuhai\n",
      "526|kuytun\n",
      "527|kralendijk\n",
      "528|lasa\n",
      "529|changji\n",
      "530|lashio\n",
      "531|mankera\n",
      "532|novobataysk\n",
      "533|belaya gora\n",
      "534|giyon\n",
      "City name not found.\n",
      "535|lafia\n",
      "536|puerto leguizamo\n",
      "537|gasa\n",
      "538|conceicao do araguaia\n",
      "539|san roque\n",
      "540|plettenberg bay\n",
      "541|coolum beach\n",
      "542|bihoro\n",
      "543|bayonet point\n",
      "544|high prairie\n",
      "545|jalu\n",
      "546|guangyuan\n",
      "547|vardo\n",
      "548|isiro\n",
      "549|laguna\n",
      "550|maun\n",
      "City name not found.\n",
      "551|toora-khem\n",
      "552|lianyuan\n",
      "City name not found.\n"
     ]
    },
    {
     "name": "stdout",
     "output_type": "stream",
     "text": [
      "553|obo\n",
      "City name not found.\n",
      "554|almetyevsk\n",
      "555|raudeberg\n",
      "556|carutapera\n",
      "557|pacific grove\n",
      "558|olavarria\n",
      "559|storforshei\n",
      "560|mahanje\n",
      "561|lembeni\n",
      "562|upington\n",
      "563|lavrentiya\n",
      "564|lomovka\n",
      "565|college\n",
      "566|tecoanapa\n",
      "567|muswellbrook\n",
      "568|yangambi\n",
      "569|svetlogorsk\n",
      "City name not found.\n",
      "570|krasnoarmeysk\n",
      "571|korhogo\n",
      "572|mareeba\n",
      "City name not found.\n",
      "573|moranbah\n",
      "City name not found.\n",
      "574|tezu\n",
      "575|cienfuegos\n",
      "576|sobolevo\n",
      "577|rivne\n",
      "578|teyateyaneng\n",
      "579|winfield\n",
      "580|watertown\n"
     ]
    }
   ],
   "source": [
    "# Loop through cities making the API call\n",
    "i = 1\n",
    "for city in cities:\n",
    "    city=city\n",
    "    query_url = url + \"appid=\" + weather_api_key + \"&q=\" + city\n",
    "    response = requests.get(query_url).json()\n",
    "    \n",
    "    # extracting data and cleaning data\n",
    "# print cleaned data\n",
    "    try:\n",
    "        city_name.append(response[\"name\"])\n",
    "        country.append(response[\"sys\"][\"country\"])\n",
    "        latitude.append(response[\"coord\"][\"lat\"])  \n",
    "        longitude.append(response[\"coord\"][\"lon\"])\n",
    "        max_temperature.append(response[\"main\"]['temp_max'])\n",
    "        humidity.append(response[\"main\"]['humidity'])\n",
    "        wind_speed.append(response[\"wind\"][\"speed\"])\n",
    "        cloudiness.append(response[\"clouds\"][\"all\"])\n",
    "        print(f\"{i}|{city}\")\n",
    "        i+=1\n",
    "    except (KeyError):\n",
    "        print(\"City name not found.\")"
   ]
  },
  {
   "cell_type": "markdown",
   "metadata": {},
   "source": [
    "### Convert Raw Data to DataFrame\n",
    "* Export the city data into a .csv.\n",
    "* Display the DataFrame"
   ]
  },
  {
   "cell_type": "code",
   "execution_count": 7,
   "metadata": {},
   "outputs": [
    {
     "data": {
      "text/html": [
       "<div>\n",
       "<style scoped>\n",
       "    .dataframe tbody tr th:only-of-type {\n",
       "        vertical-align: middle;\n",
       "    }\n",
       "\n",
       "    .dataframe tbody tr th {\n",
       "        vertical-align: top;\n",
       "    }\n",
       "\n",
       "    .dataframe thead th {\n",
       "        text-align: right;\n",
       "    }\n",
       "</style>\n",
       "<table border=\"1\" class=\"dataframe\">\n",
       "  <thead>\n",
       "    <tr style=\"text-align: right;\">\n",
       "      <th></th>\n",
       "      <th>City</th>\n",
       "      <th>Country</th>\n",
       "      <th>Lat</th>\n",
       "      <th>Lng</th>\n",
       "      <th>Max Temp</th>\n",
       "      <th>Humidity</th>\n",
       "      <th>Wind Speed</th>\n",
       "      <th>Cloudiness</th>\n",
       "    </tr>\n",
       "  </thead>\n",
       "  <tbody>\n",
       "    <tr>\n",
       "      <td>0</td>\n",
       "      <td>Ushuaia</td>\n",
       "      <td>AR</td>\n",
       "      <td>-54.80</td>\n",
       "      <td>-68.30</td>\n",
       "      <td>46.40</td>\n",
       "      <td>70</td>\n",
       "      <td>27.51</td>\n",
       "      <td>75</td>\n",
       "    </tr>\n",
       "    <tr>\n",
       "      <td>1</td>\n",
       "      <td>Brae</td>\n",
       "      <td>GB</td>\n",
       "      <td>60.40</td>\n",
       "      <td>-1.35</td>\n",
       "      <td>46.40</td>\n",
       "      <td>87</td>\n",
       "      <td>6.93</td>\n",
       "      <td>100</td>\n",
       "    </tr>\n",
       "    <tr>\n",
       "      <td>2</td>\n",
       "      <td>Bambous Virieux</td>\n",
       "      <td>MU</td>\n",
       "      <td>-20.34</td>\n",
       "      <td>57.76</td>\n",
       "      <td>78.80</td>\n",
       "      <td>78</td>\n",
       "      <td>8.05</td>\n",
       "      <td>40</td>\n",
       "    </tr>\n",
       "    <tr>\n",
       "      <td>3</td>\n",
       "      <td>Bredasdorp</td>\n",
       "      <td>ZA</td>\n",
       "      <td>-34.53</td>\n",
       "      <td>20.04</td>\n",
       "      <td>64.40</td>\n",
       "      <td>77</td>\n",
       "      <td>5.82</td>\n",
       "      <td>0</td>\n",
       "    </tr>\n",
       "    <tr>\n",
       "      <td>4</td>\n",
       "      <td>Riverton</td>\n",
       "      <td>US</td>\n",
       "      <td>40.52</td>\n",
       "      <td>-111.94</td>\n",
       "      <td>59.00</td>\n",
       "      <td>44</td>\n",
       "      <td>9.17</td>\n",
       "      <td>1</td>\n",
       "    </tr>\n",
       "    <tr>\n",
       "      <td>...</td>\n",
       "      <td>...</td>\n",
       "      <td>...</td>\n",
       "      <td>...</td>\n",
       "      <td>...</td>\n",
       "      <td>...</td>\n",
       "      <td>...</td>\n",
       "      <td>...</td>\n",
       "      <td>...</td>\n",
       "    </tr>\n",
       "    <tr>\n",
       "      <td>575</td>\n",
       "      <td>Sobolevo</td>\n",
       "      <td>RU</td>\n",
       "      <td>54.43</td>\n",
       "      <td>31.90</td>\n",
       "      <td>40.60</td>\n",
       "      <td>63</td>\n",
       "      <td>7.43</td>\n",
       "      <td>56</td>\n",
       "    </tr>\n",
       "    <tr>\n",
       "      <td>576</td>\n",
       "      <td>Rivne</td>\n",
       "      <td>UA</td>\n",
       "      <td>50.62</td>\n",
       "      <td>26.23</td>\n",
       "      <td>42.48</td>\n",
       "      <td>56</td>\n",
       "      <td>6.49</td>\n",
       "      <td>0</td>\n",
       "    </tr>\n",
       "    <tr>\n",
       "      <td>577</td>\n",
       "      <td>Teyateyaneng</td>\n",
       "      <td>LS</td>\n",
       "      <td>-29.15</td>\n",
       "      <td>27.75</td>\n",
       "      <td>56.50</td>\n",
       "      <td>43</td>\n",
       "      <td>2.53</td>\n",
       "      <td>64</td>\n",
       "    </tr>\n",
       "    <tr>\n",
       "      <td>578</td>\n",
       "      <td>Winfield</td>\n",
       "      <td>US</td>\n",
       "      <td>37.24</td>\n",
       "      <td>-97.00</td>\n",
       "      <td>57.20</td>\n",
       "      <td>32</td>\n",
       "      <td>7.00</td>\n",
       "      <td>40</td>\n",
       "    </tr>\n",
       "    <tr>\n",
       "      <td>579</td>\n",
       "      <td>Watertown</td>\n",
       "      <td>US</td>\n",
       "      <td>42.37</td>\n",
       "      <td>-71.18</td>\n",
       "      <td>50.00</td>\n",
       "      <td>37</td>\n",
       "      <td>12.75</td>\n",
       "      <td>90</td>\n",
       "    </tr>\n",
       "  </tbody>\n",
       "</table>\n",
       "<p>580 rows × 8 columns</p>\n",
       "</div>"
      ],
      "text/plain": [
       "                City Country    Lat     Lng  Max Temp  Humidity  Wind Speed  \\\n",
       "0            Ushuaia      AR -54.80  -68.30     46.40        70       27.51   \n",
       "1               Brae      GB  60.40   -1.35     46.40        87        6.93   \n",
       "2    Bambous Virieux      MU -20.34   57.76     78.80        78        8.05   \n",
       "3         Bredasdorp      ZA -34.53   20.04     64.40        77        5.82   \n",
       "4           Riverton      US  40.52 -111.94     59.00        44        9.17   \n",
       "..               ...     ...    ...     ...       ...       ...         ...   \n",
       "575         Sobolevo      RU  54.43   31.90     40.60        63        7.43   \n",
       "576            Rivne      UA  50.62   26.23     42.48        56        6.49   \n",
       "577     Teyateyaneng      LS -29.15   27.75     56.50        43        2.53   \n",
       "578         Winfield      US  37.24  -97.00     57.20        32        7.00   \n",
       "579        Watertown      US  42.37  -71.18     50.00        37       12.75   \n",
       "\n",
       "     Cloudiness  \n",
       "0            75  \n",
       "1           100  \n",
       "2            40  \n",
       "3             0  \n",
       "4             1  \n",
       "..          ...  \n",
       "575          56  \n",
       "576           0  \n",
       "577          64  \n",
       "578          40  \n",
       "579          90  \n",
       "\n",
       "[580 rows x 8 columns]"
      ]
     },
     "execution_count": 7,
     "metadata": {},
     "output_type": "execute_result"
    }
   ],
   "source": [
    "#Turn appended lists into dictionary\n",
    "weather_dict = {'City':city_name,\n",
    "                'Country':country,\n",
    "                'Lat':latitude,\n",
    "                'Lng':longitude,\n",
    "                'Max Temp':max_temperature,\n",
    "                'Humidity':humidity,\n",
    "                'Wind Speed':wind_speed,\n",
    "                'Cloudiness':cloudiness,}\n",
    "\n",
    "#Turn dictionary into dataframe\n",
    "weather_df = pd.DataFrame(weather_dict)\n",
    "weather_df"
   ]
  },
  {
   "cell_type": "code",
   "execution_count": 27,
   "metadata": {},
   "outputs": [],
   "source": [
    "weather_df.to_csv (\"weather_df\", index = None, header=True)"
   ]
  },
  {
   "cell_type": "markdown",
   "metadata": {},
   "source": [
    "### Plotting the Data\n",
    "* Use proper labeling of the plots using plot titles (including date of analysis) and axes labels.\n",
    "* Save the plotted figures as .pngs."
   ]
  },
  {
   "cell_type": "markdown",
   "metadata": {},
   "source": [
    "#### Latitude vs. Temperature Plot"
   ]
  },
  {
   "cell_type": "code",
   "execution_count": 28,
   "metadata": {
    "scrolled": true
   },
   "outputs": [
    {
     "data": {
      "image/png": "[encoded data removed]",
      "text/plain": [
       "<Figure size 432x288 with 1 Axes>"
      ]
     },
     "metadata": {
      "needs_background": "light"
     },
     "output_type": "display_data"
    }
   ],
   "source": [
    "plt.scatter(weather_df[\"Lat\"], weather_df[\"Max Temp\"])\n",
    "plt.xlabel(\"Latitude\")\n",
    "plt.ylabel(\"Max Temperature (F)\")\n",
    "plt.title(\"Latitude vs Temperature\")\n",
    "plt.show()"
   ]
  },
  {
   "cell_type": "code",
   "execution_count": 29,
   "metadata": {},
   "outputs": [
    {
     "data": {
      "text/plain": [
       "<Figure size 432x288 with 0 Axes>"
      ]
     },
     "metadata": {},
     "output_type": "display_data"
    }
   ],
   "source": [
    "plt.savefig('Fig1.png')"
   ]
  },
  {
   "cell_type": "code",
   "execution_count": null,
   "metadata": {},
   "outputs": [],
   "source": [
    "#This scatter plot is looking to see what the temperature is the more north and south of the equator you are. \n",
    "#The weather seems to increase the closer to the equator you are and then decrease dramatically the farther north of the equator."
   ]
  },
  {
   "cell_type": "markdown",
   "metadata": {},
   "source": [
    "#### Latitude vs. Humidity Plot"
   ]
  },
  {
   "cell_type": "code",
   "execution_count": 30,
   "metadata": {},
   "outputs": [
    {
     "data": {
      "image/png": "[encoded data removed]",
      "text/plain": [
       "<Figure size 432x288 with 1 Axes>"
      ]
     },
     "metadata": {
      "needs_background": "light"
     },
     "output_type": "display_data"
    }
   ],
   "source": [
    "plt.scatter(weather_df[\"Lat\"], weather_df[\"Humidity\"])\n",
    "plt.xlabel(\"Latitude\")\n",
    "plt.ylabel(\"Humidity\")\n",
    "plt.title(\"Latitude vs Humidity\")\n",
    "plt.show()"
   ]
  },
  {
   "cell_type": "code",
   "execution_count": 31,
   "metadata": {},
   "outputs": [
    {
     "data": {
      "text/plain": [
       "<Figure size 432x288 with 0 Axes>"
      ]
     },
     "metadata": {},
     "output_type": "display_data"
    }
   ],
   "source": [
    "plt.savefig('Fig2.png')"
   ]
  },
  {
   "cell_type": "code",
   "execution_count": null,
   "metadata": {},
   "outputs": [],
   "source": [
    "#This scatter plot is comparing latitude of cities to humidty.\n",
    "#The humidity of a city based on latitude seems to be random. "
   ]
  },
  {
   "cell_type": "markdown",
   "metadata": {},
   "source": [
    "#### Latitude vs. Cloudiness Plot"
   ]
  },
  {
   "cell_type": "code",
   "execution_count": 32,
   "metadata": {},
   "outputs": [
    {
     "data": {
      "image/png": "[encoded data removed]",
      "text/plain": [
       "<Figure size 432x288 with 1 Axes>"
      ]
     },
     "metadata": {
      "needs_background": "light"
     },
     "output_type": "display_data"
    }
   ],
   "source": [
    "plt.scatter(weather_df[\"Lat\"], weather_df[\"Cloudiness\"])\n",
    "plt.xlabel(\"Latitude\")\n",
    "plt.ylabel(\"Cloudiness\")\n",
    "plt.title(\"Latitude vs Cloudiness\")\n",
    "plt.show()"
   ]
  },
  {
   "cell_type": "code",
   "execution_count": 33,
   "metadata": {},
   "outputs": [
    {
     "data": {
      "text/plain": [
       "<Figure size 432x288 with 0 Axes>"
      ]
     },
     "metadata": {},
     "output_type": "display_data"
    }
   ],
   "source": [
    "plt.savefig('Fig3.png')"
   ]
  },
  {
   "cell_type": "code",
   "execution_count": null,
   "metadata": {},
   "outputs": [],
   "source": [
    "#This scatter plot is looking at how cloudy a city is based on the latitude of it's coorindates. \n",
    "#The cloudiness of a city based on latitude seems to be random. "
   ]
  },
  {
   "cell_type": "markdown",
   "metadata": {},
   "source": [
    "#### Latitude vs. Wind Speed Plot"
   ]
  },
  {
   "cell_type": "code",
   "execution_count": 34,
   "metadata": {},
   "outputs": [
    {
     "data": {
      "image/png": "[encoded data removed]",
      "text/plain": [
       "<Figure size 432x288 with 1 Axes>"
      ]
     },
     "metadata": {
      "needs_background": "light"
     },
     "output_type": "display_data"
    }
   ],
   "source": [
    "plt.scatter(weather_df[\"Lat\"], weather_df[\"Wind Speed\"])\n",
    "plt.xlabel(\"Latitude\")\n",
    "plt.ylabel(\"Wind Speed\")\n",
    "plt.title(\"Latitude vs Wind Speed\")\n",
    "plt.show()"
   ]
  },
  {
   "cell_type": "code",
   "execution_count": 35,
   "metadata": {},
   "outputs": [
    {
     "data": {
      "text/plain": [
       "<Figure size 432x288 with 0 Axes>"
      ]
     },
     "metadata": {},
     "output_type": "display_data"
    }
   ],
   "source": [
    "plt.savefig('Fig4.png')"
   ]
  },
  {
   "cell_type": "code",
   "execution_count": null,
   "metadata": {},
   "outputs": [],
   "source": [
    "#This scatter plot is looking at the wind speed of a particular city based on the latitude of it's coordinates. \n",
    "#Wind speed seems to stay pretty consistent by latitude sans a few outliers. One in particular is about 60 degrees north of the equator. "
   ]
  },
  {
   "cell_type": "markdown",
   "metadata": {},
   "source": [
    "## Linear Regression"
   ]
  },
  {
   "cell_type": "code",
   "execution_count": 16,
   "metadata": {},
   "outputs": [],
   "source": [
    "# OPTIONAL: Create a function to create Linear Regression plots\n"
   ]
  },
  {
   "cell_type": "code",
   "execution_count": 17,
   "metadata": {},
   "outputs": [
    {
     "data": {
      "text/html": [
       "<div>\n",
       "<style scoped>\n",
       "    .dataframe tbody tr th:only-of-type {\n",
       "        vertical-align: middle;\n",
       "    }\n",
       "\n",
       "    .dataframe tbody tr th {\n",
       "        vertical-align: top;\n",
       "    }\n",
       "\n",
       "    .dataframe thead th {\n",
       "        text-align: right;\n",
       "    }\n",
       "</style>\n",
       "<table border=\"1\" class=\"dataframe\">\n",
       "  <thead>\n",
       "    <tr style=\"text-align: right;\">\n",
       "      <th></th>\n",
       "      <th>City</th>\n",
       "      <th>Country</th>\n",
       "      <th>Lat</th>\n",
       "      <th>Lng</th>\n",
       "      <th>Max Temp</th>\n",
       "      <th>Humidity</th>\n",
       "      <th>Wind Speed</th>\n",
       "      <th>Cloudiness</th>\n",
       "    </tr>\n",
       "  </thead>\n",
       "  <tbody>\n",
       "    <tr>\n",
       "      <td>1</td>\n",
       "      <td>Brae</td>\n",
       "      <td>GB</td>\n",
       "      <td>60.40</td>\n",
       "      <td>-1.35</td>\n",
       "      <td>46.40</td>\n",
       "      <td>87</td>\n",
       "      <td>6.93</td>\n",
       "      <td>100</td>\n",
       "    </tr>\n",
       "    <tr>\n",
       "      <td>4</td>\n",
       "      <td>Riverton</td>\n",
       "      <td>US</td>\n",
       "      <td>40.52</td>\n",
       "      <td>-111.94</td>\n",
       "      <td>59.00</td>\n",
       "      <td>44</td>\n",
       "      <td>9.17</td>\n",
       "      <td>1</td>\n",
       "    </tr>\n",
       "    <tr>\n",
       "      <td>6</td>\n",
       "      <td>Jamestown</td>\n",
       "      <td>US</td>\n",
       "      <td>42.10</td>\n",
       "      <td>-79.24</td>\n",
       "      <td>37.40</td>\n",
       "      <td>69</td>\n",
       "      <td>28.86</td>\n",
       "      <td>90</td>\n",
       "    </tr>\n",
       "    <tr>\n",
       "      <td>7</td>\n",
       "      <td>Yumen</td>\n",
       "      <td>CN</td>\n",
       "      <td>40.28</td>\n",
       "      <td>97.20</td>\n",
       "      <td>43.59</td>\n",
       "      <td>22</td>\n",
       "      <td>20.45</td>\n",
       "      <td>3</td>\n",
       "    </tr>\n",
       "    <tr>\n",
       "      <td>8</td>\n",
       "      <td>Ust-Kuyga</td>\n",
       "      <td>RU</td>\n",
       "      <td>70.02</td>\n",
       "      <td>135.60</td>\n",
       "      <td>24.62</td>\n",
       "      <td>90</td>\n",
       "      <td>13.02</td>\n",
       "      <td>44</td>\n",
       "    </tr>\n",
       "    <tr>\n",
       "      <td>...</td>\n",
       "      <td>...</td>\n",
       "      <td>...</td>\n",
       "      <td>...</td>\n",
       "      <td>...</td>\n",
       "      <td>...</td>\n",
       "      <td>...</td>\n",
       "      <td>...</td>\n",
       "      <td>...</td>\n",
       "    </tr>\n",
       "    <tr>\n",
       "      <td>574</td>\n",
       "      <td>Cienfuegos</td>\n",
       "      <td>CU</td>\n",
       "      <td>22.15</td>\n",
       "      <td>-80.44</td>\n",
       "      <td>95.00</td>\n",
       "      <td>59</td>\n",
       "      <td>12.75</td>\n",
       "      <td>15</td>\n",
       "    </tr>\n",
       "    <tr>\n",
       "      <td>575</td>\n",
       "      <td>Sobolevo</td>\n",
       "      <td>RU</td>\n",
       "      <td>54.43</td>\n",
       "      <td>31.90</td>\n",
       "      <td>40.60</td>\n",
       "      <td>63</td>\n",
       "      <td>7.43</td>\n",
       "      <td>56</td>\n",
       "    </tr>\n",
       "    <tr>\n",
       "      <td>576</td>\n",
       "      <td>Rivne</td>\n",
       "      <td>UA</td>\n",
       "      <td>50.62</td>\n",
       "      <td>26.23</td>\n",
       "      <td>42.48</td>\n",
       "      <td>56</td>\n",
       "      <td>6.49</td>\n",
       "      <td>0</td>\n",
       "    </tr>\n",
       "    <tr>\n",
       "      <td>578</td>\n",
       "      <td>Winfield</td>\n",
       "      <td>US</td>\n",
       "      <td>37.24</td>\n",
       "      <td>-97.00</td>\n",
       "      <td>57.20</td>\n",
       "      <td>32</td>\n",
       "      <td>7.00</td>\n",
       "      <td>40</td>\n",
       "    </tr>\n",
       "    <tr>\n",
       "      <td>579</td>\n",
       "      <td>Watertown</td>\n",
       "      <td>US</td>\n",
       "      <td>42.37</td>\n",
       "      <td>-71.18</td>\n",
       "      <td>50.00</td>\n",
       "      <td>37</td>\n",
       "      <td>12.75</td>\n",
       "      <td>90</td>\n",
       "    </tr>\n",
       "  </tbody>\n",
       "</table>\n",
       "<p>388 rows × 8 columns</p>\n",
       "</div>"
      ],
      "text/plain": [
       "           City Country    Lat     Lng  Max Temp  Humidity  Wind Speed  \\\n",
       "1          Brae      GB  60.40   -1.35     46.40        87        6.93   \n",
       "4      Riverton      US  40.52 -111.94     59.00        44        9.17   \n",
       "6     Jamestown      US  42.10  -79.24     37.40        69       28.86   \n",
       "7         Yumen      CN  40.28   97.20     43.59        22       20.45   \n",
       "8     Ust-Kuyga      RU  70.02  135.60     24.62        90       13.02   \n",
       "..          ...     ...    ...     ...       ...       ...         ...   \n",
       "574  Cienfuegos      CU  22.15  -80.44     95.00        59       12.75   \n",
       "575    Sobolevo      RU  54.43   31.90     40.60        63        7.43   \n",
       "576       Rivne      UA  50.62   26.23     42.48        56        6.49   \n",
       "578    Winfield      US  37.24  -97.00     57.20        32        7.00   \n",
       "579   Watertown      US  42.37  -71.18     50.00        37       12.75   \n",
       "\n",
       "     Cloudiness  \n",
       "1           100  \n",
       "4             1  \n",
       "6            90  \n",
       "7             3  \n",
       "8            44  \n",
       "..          ...  \n",
       "574          15  \n",
       "575          56  \n",
       "576           0  \n",
       "578          40  \n",
       "579          90  \n",
       "\n",
       "[388 rows x 8 columns]"
      ]
     },
     "execution_count": 17,
     "metadata": {},
     "output_type": "execute_result"
    }
   ],
   "source": [
    "# Create Northern DataFrame\n",
    "northern_hemisphere_df = weather_df[weather_df[\"Lat\"] >= 0]\n",
    "northern_hemisphere_df"
   ]
  },
  {
   "cell_type": "code",
   "execution_count": 18,
   "metadata": {},
   "outputs": [
    {
     "data": {
      "text/html": [
       "<div>\n",
       "<style scoped>\n",
       "    .dataframe tbody tr th:only-of-type {\n",
       "        vertical-align: middle;\n",
       "    }\n",
       "\n",
       "    .dataframe tbody tr th {\n",
       "        vertical-align: top;\n",
       "    }\n",
       "\n",
       "    .dataframe thead th {\n",
       "        text-align: right;\n",
       "    }\n",
       "</style>\n",
       "<table border=\"1\" class=\"dataframe\">\n",
       "  <thead>\n",
       "    <tr style=\"text-align: right;\">\n",
       "      <th></th>\n",
       "      <th>City</th>\n",
       "      <th>Country</th>\n",
       "      <th>Lat</th>\n",
       "      <th>Lng</th>\n",
       "      <th>Max Temp</th>\n",
       "      <th>Humidity</th>\n",
       "      <th>Wind Speed</th>\n",
       "      <th>Cloudiness</th>\n",
       "    </tr>\n",
       "  </thead>\n",
       "  <tbody>\n",
       "    <tr>\n",
       "      <td>0</td>\n",
       "      <td>Ushuaia</td>\n",
       "      <td>AR</td>\n",
       "      <td>-54.80</td>\n",
       "      <td>-68.30</td>\n",
       "      <td>46.40</td>\n",
       "      <td>70</td>\n",
       "      <td>27.51</td>\n",
       "      <td>75</td>\n",
       "    </tr>\n",
       "    <tr>\n",
       "      <td>2</td>\n",
       "      <td>Bambous Virieux</td>\n",
       "      <td>MU</td>\n",
       "      <td>-20.34</td>\n",
       "      <td>57.76</td>\n",
       "      <td>78.80</td>\n",
       "      <td>78</td>\n",
       "      <td>8.05</td>\n",
       "      <td>40</td>\n",
       "    </tr>\n",
       "    <tr>\n",
       "      <td>3</td>\n",
       "      <td>Bredasdorp</td>\n",
       "      <td>ZA</td>\n",
       "      <td>-34.53</td>\n",
       "      <td>20.04</td>\n",
       "      <td>64.40</td>\n",
       "      <td>77</td>\n",
       "      <td>5.82</td>\n",
       "      <td>0</td>\n",
       "    </tr>\n",
       "    <tr>\n",
       "      <td>5</td>\n",
       "      <td>Busselton</td>\n",
       "      <td>AU</td>\n",
       "      <td>-33.65</td>\n",
       "      <td>115.33</td>\n",
       "      <td>69.01</td>\n",
       "      <td>50</td>\n",
       "      <td>14.16</td>\n",
       "      <td>75</td>\n",
       "    </tr>\n",
       "    <tr>\n",
       "      <td>9</td>\n",
       "      <td>Souillac</td>\n",
       "      <td>MU</td>\n",
       "      <td>-20.52</td>\n",
       "      <td>57.52</td>\n",
       "      <td>78.80</td>\n",
       "      <td>78</td>\n",
       "      <td>8.05</td>\n",
       "      <td>40</td>\n",
       "    </tr>\n",
       "    <tr>\n",
       "      <td>...</td>\n",
       "      <td>...</td>\n",
       "      <td>...</td>\n",
       "      <td>...</td>\n",
       "      <td>...</td>\n",
       "      <td>...</td>\n",
       "      <td>...</td>\n",
       "      <td>...</td>\n",
       "      <td>...</td>\n",
       "    </tr>\n",
       "    <tr>\n",
       "      <td>561</td>\n",
       "      <td>Upington</td>\n",
       "      <td>ZA</td>\n",
       "      <td>-28.45</td>\n",
       "      <td>21.26</td>\n",
       "      <td>78.80</td>\n",
       "      <td>36</td>\n",
       "      <td>6.93</td>\n",
       "      <td>20</td>\n",
       "    </tr>\n",
       "    <tr>\n",
       "      <td>566</td>\n",
       "      <td>Muswellbrook</td>\n",
       "      <td>AU</td>\n",
       "      <td>-32.27</td>\n",
       "      <td>150.90</td>\n",
       "      <td>53.53</td>\n",
       "      <td>85</td>\n",
       "      <td>6.64</td>\n",
       "      <td>11</td>\n",
       "    </tr>\n",
       "    <tr>\n",
       "      <td>571</td>\n",
       "      <td>Mareeba</td>\n",
       "      <td>AU</td>\n",
       "      <td>-17.00</td>\n",
       "      <td>145.43</td>\n",
       "      <td>73.40</td>\n",
       "      <td>83</td>\n",
       "      <td>1.77</td>\n",
       "      <td>99</td>\n",
       "    </tr>\n",
       "    <tr>\n",
       "      <td>572</td>\n",
       "      <td>Moranbah</td>\n",
       "      <td>AU</td>\n",
       "      <td>-22.00</td>\n",
       "      <td>148.05</td>\n",
       "      <td>67.62</td>\n",
       "      <td>82</td>\n",
       "      <td>4.23</td>\n",
       "      <td>71</td>\n",
       "    </tr>\n",
       "    <tr>\n",
       "      <td>577</td>\n",
       "      <td>Teyateyaneng</td>\n",
       "      <td>LS</td>\n",
       "      <td>-29.15</td>\n",
       "      <td>27.75</td>\n",
       "      <td>56.50</td>\n",
       "      <td>43</td>\n",
       "      <td>2.53</td>\n",
       "      <td>64</td>\n",
       "    </tr>\n",
       "  </tbody>\n",
       "</table>\n",
       "<p>192 rows × 8 columns</p>\n",
       "</div>"
      ],
      "text/plain": [
       "                City Country    Lat     Lng  Max Temp  Humidity  Wind Speed  \\\n",
       "0            Ushuaia      AR -54.80  -68.30     46.40        70       27.51   \n",
       "2    Bambous Virieux      MU -20.34   57.76     78.80        78        8.05   \n",
       "3         Bredasdorp      ZA -34.53   20.04     64.40        77        5.82   \n",
       "5          Busselton      AU -33.65  115.33     69.01        50       14.16   \n",
       "9           Souillac      MU -20.52   57.52     78.80        78        8.05   \n",
       "..               ...     ...    ...     ...       ...       ...         ...   \n",
       "561         Upington      ZA -28.45   21.26     78.80        36        6.93   \n",
       "566     Muswellbrook      AU -32.27  150.90     53.53        85        6.64   \n",
       "571          Mareeba      AU -17.00  145.43     73.40        83        1.77   \n",
       "572         Moranbah      AU -22.00  148.05     67.62        82        4.23   \n",
       "577     Teyateyaneng      LS -29.15   27.75     56.50        43        2.53   \n",
       "\n",
       "     Cloudiness  \n",
       "0            75  \n",
       "2            40  \n",
       "3             0  \n",
       "5            75  \n",
       "9            40  \n",
       "..          ...  \n",
       "561          20  \n",
       "566          11  \n",
       "571          99  \n",
       "572          71  \n",
       "577          64  \n",
       "\n",
       "[192 rows x 8 columns]"
      ]
     },
     "execution_count": 18,
     "metadata": {},
     "output_type": "execute_result"
    }
   ],
   "source": [
    "# Create Southern Hemisphere DataFrame\n",
    "southern_hemisphere_df = weather_df[weather_df[\"Lat\"] < 0]\n",
    "southern_hemisphere_df"
   ]
  },
  {
   "cell_type": "markdown",
   "metadata": {},
   "source": [
    "####  Northern Hemisphere - Max Temp vs. Latitude Linear Regression"
   ]
  },
  {
   "cell_type": "code",
   "execution_count": 19,
   "metadata": {},
   "outputs": [
    {
     "name": "stdout",
     "output_type": "stream",
     "text": [
      "The r-squared is: -0.884423024049503\n"
     ]
    },
    {
     "data": {
      "image/png": "[encoded data removed]",
      "text/plain": [
       "<Figure size 432x288 with 1 Axes>"
      ]
     },
     "metadata": {
      "needs_background": "light"
     },
     "output_type": "display_data"
    }
   ],
   "source": [
    "x_values = northern_hemisphere_df[\"Lat\"]\n",
    "y_values = northern_hemisphere_df[\"Max Temp\"]\n",
    "(slope, intercept, rvalue, pvalue, stderr) = linregress(x_values, y_values)\n",
    "regress_values = x_values * slope + intercept\n",
    "line_eq = \"y = \" + str(round(slope,2)) + \"x + \" + str(round(intercept,2))\n",
    "plt.scatter(x_values,y_values)\n",
    "plt.plot(x_values,regress_values,\"r-\")\n",
    "plt.annotate(line_eq,(6,10),fontsize=15,color=\"red\")\n",
    "plt.xlabel(\"Latitude\")\n",
    "plt.ylabel(\"Max Temp\")\n",
    "plt.title(\"Max Temp vs Latitude in the Northern Hemisphere\")\n",
    "print(f\"The r-squared is: {rvalue}\")\n",
    "plt.show()"
   ]
  },
  {
   "cell_type": "markdown",
   "metadata": {},
   "source": [
    "####  Southern Hemisphere - Max Temp vs. Latitude Linear Regression"
   ]
  },
  {
   "cell_type": "code",
   "execution_count": 20,
   "metadata": {},
   "outputs": [
    {
     "name": "stdout",
     "output_type": "stream",
     "text": [
      "The r-squared is: 0.7044078923108454\n"
     ]
    },
    {
     "data": {
      "image/png": "[encoded data removed]",
      "text/plain": [
       "<Figure size 432x288 with 1 Axes>"
      ]
     },
     "metadata": {
      "needs_background": "light"
     },
     "output_type": "display_data"
    }
   ],
   "source": [
    "x_values = southern_hemisphere_df[\"Lat\"]\n",
    "y_values = southern_hemisphere_df[\"Max Temp\"]\n",
    "(slope, intercept, rvalue, pvalue, stderr) = linregress(x_values, y_values)\n",
    "regress_values = x_values * slope + intercept\n",
    "line_eq = \"y = \" + str(round(slope,2)) + \"x + \" + str(round(intercept,2))\n",
    "plt.scatter(x_values,y_values)\n",
    "plt.plot(x_values,regress_values,\"r-\")\n",
    "plt.annotate(line_eq,(6,10),fontsize=15,color=\"red\")\n",
    "plt.xlabel(\"Latitude\")\n",
    "plt.ylabel(\"Max Temp\")\n",
    "plt.title(\"Max Temp vs Latitude in the Southern Hemisphere\")\n",
    "print(f\"The r-squared is: {rvalue}\")\n",
    "plt.show()"
   ]
  },
  {
   "cell_type": "code",
   "execution_count": null,
   "metadata": {},
   "outputs": [],
   "source": [
    "#These regressions were seeing if there was any correlation between latitude and max temperature in both the southern and northern hempisheres.\n",
    "#There is clearly a relationship between the two as the weather increases the closer you get to the equator and decreases the farther you are from the equator. "
   ]
  },
  {
   "cell_type": "markdown",
   "metadata": {},
   "source": [
    "####  Northern Hemisphere - Humidity (%) vs. Latitude Linear Regression"
   ]
  },
  {
   "cell_type": "code",
   "execution_count": 21,
   "metadata": {},
   "outputs": [
    {
     "name": "stdout",
     "output_type": "stream",
     "text": [
      "The r-squared is: 0.32263771634768135\n"
     ]
    },
    {
     "data": {
      "image/png": "[encoded data removed]",
      "text/plain": [
       "<Figure size 432x288 with 1 Axes>"
      ]
     },
     "metadata": {
      "needs_background": "light"
     },
     "output_type": "display_data"
    }
   ],
   "source": [
    "x_values = northern_hemisphere_df[\"Lat\"]\n",
    "y_values = northern_hemisphere_df[\"Humidity\"]\n",
    "(slope, intercept, rvalue, pvalue, stderr) = linregress(x_values, y_values)\n",
    "regress_values = x_values * slope + intercept\n",
    "line_eq = \"y = \" + str(round(slope,2)) + \"x + \" + str(round(intercept,2))\n",
    "plt.scatter(x_values,y_values)\n",
    "plt.plot(x_values,regress_values,\"r-\")\n",
    "plt.annotate(line_eq,(6,10),fontsize=15,color=\"red\")\n",
    "plt.xlabel(\"Latitude\")\n",
    "plt.ylabel(\"Humidity (%)\")\n",
    "plt.title(\"Max Temp vs Humidity (%) in the Northern Hemisphere\")\n",
    "print(f\"The r-squared is: {rvalue}\")\n",
    "plt.show()"
   ]
  },
  {
   "cell_type": "markdown",
   "metadata": {},
   "source": [
    "####  Southern Hemisphere - Humidity (%) vs. Latitude Linear Regression"
   ]
  },
  {
   "cell_type": "code",
   "execution_count": 22,
   "metadata": {},
   "outputs": [
    {
     "name": "stdout",
     "output_type": "stream",
     "text": [
      "The r-squared is: 0.0301706508810672\n"
     ]
    },
    {
     "data": {
      "image/png": "[encoded data removed]",
      "text/plain": [
       "<Figure size 432x288 with 1 Axes>"
      ]
     },
     "metadata": {
      "needs_background": "light"
     },
     "output_type": "display_data"
    }
   ],
   "source": [
    "x_values = southern_hemisphere_df[\"Lat\"]\n",
    "y_values = southern_hemisphere_df[\"Humidity\"]\n",
    "(slope, intercept, rvalue, pvalue, stderr) = linregress(x_values, y_values)\n",
    "regress_values = x_values * slope + intercept\n",
    "line_eq = \"y = \" + str(round(slope,2)) + \"x + \" + str(round(intercept,2))\n",
    "plt.scatter(x_values,y_values)\n",
    "plt.plot(x_values,regress_values,\"r-\")\n",
    "plt.annotate(line_eq,(6,10),fontsize=15,color=\"red\")\n",
    "plt.xlabel(\"Latitude\")\n",
    "plt.ylabel(\"Humidity (%)\")\n",
    "plt.title(\"Max Temp vs Humidity (%) in the Southern Hemisphere\")\n",
    "print(f\"The r-squared is: {rvalue}\")\n",
    "plt.show()"
   ]
  },
  {
   "cell_type": "code",
   "execution_count": null,
   "metadata": {},
   "outputs": [],
   "source": [
    "#These regressions were seeing if there was any correlation between latitude and humidity in both the southern and northern hempisheres.\n",
    "#There seems to be a relationship between latitude and humidity when you are above the equator, but not when you are below. "
   ]
  },
  {
   "cell_type": "markdown",
   "metadata": {},
   "source": [
    "####  Northern Hemisphere - Cloudiness (%) vs. Latitude Linear Regression"
   ]
  },
  {
   "cell_type": "code",
   "execution_count": 23,
   "metadata": {},
   "outputs": [
    {
     "name": "stdout",
     "output_type": "stream",
     "text": [
      "The r-squared is: 0.16879252550676124\n"
     ]
    },
    {
     "data": {
      "image/png": "[encoded data removed]",
      "text/plain": [
       "<Figure size 432x288 with 1 Axes>"
      ]
     },
     "metadata": {
      "needs_background": "light"
     },
     "output_type": "display_data"
    }
   ],
   "source": [
    "x_values = northern_hemisphere_df[\"Lat\"]\n",
    "y_values = northern_hemisphere_df[\"Cloudiness\"]\n",
    "(slope, intercept, rvalue, pvalue, stderr) = linregress(x_values, y_values)\n",
    "regress_values = x_values * slope + intercept\n",
    "line_eq = \"y = \" + str(round(slope,2)) + \"x + \" + str(round(intercept,2))\n",
    "plt.scatter(x_values,y_values)\n",
    "plt.plot(x_values,regress_values,\"r-\")\n",
    "plt.annotate(line_eq,(6,10),fontsize=15,color=\"red\")\n",
    "plt.xlabel(\"Latitude\")\n",
    "plt.ylabel(\"Cloudiness (%)\")\n",
    "plt.title(\"Max Temp vs Cloudiness (%) in the Northern Hemisphere\")\n",
    "print(f\"The r-squared is: {rvalue}\")\n",
    "plt.show()"
   ]
  },
  {
   "cell_type": "markdown",
   "metadata": {},
   "source": [
    "####  Southern Hemisphere - Cloudiness (%) vs. Latitude Linear Regression"
   ]
  },
  {
   "cell_type": "code",
   "execution_count": 24,
   "metadata": {},
   "outputs": [
    {
     "name": "stdout",
     "output_type": "stream",
     "text": [
      "The r-squared is: 0.2484809634020189\n"
     ]
    },
    {
     "data": {
      "image/png": "[encoded data removed]",
      "text/plain": [
       "<Figure size 432x288 with 1 Axes>"
      ]
     },
     "metadata": {
      "needs_background": "light"
     },
     "output_type": "display_data"
    }
   ],
   "source": [
    "x_values = southern_hemisphere_df[\"Lat\"]\n",
    "y_values = southern_hemisphere_df[\"Cloudiness\"]\n",
    "(slope, intercept, rvalue, pvalue, stderr) = linregress(x_values, y_values)\n",
    "regress_values = x_values * slope + intercept\n",
    "line_eq = \"y = \" + str(round(slope,2)) + \"x + \" + str(round(intercept,2))\n",
    "plt.scatter(x_values,y_values)\n",
    "plt.plot(x_values,regress_values,\"r-\")\n",
    "plt.annotate(line_eq,(6,10),fontsize=15,color=\"red\")\n",
    "plt.xlabel(\"Latitude\")\n",
    "plt.ylabel(\"Cloudiness (%)\")\n",
    "plt.title(\"Max Temp vs Cloudiness (%) in the Southern Hemisphere\")\n",
    "print(f\"The r-squared is: {rvalue}\")\n",
    "plt.show()"
   ]
  },
  {
   "cell_type": "code",
   "execution_count": null,
   "metadata": {},
   "outputs": [],
   "source": [
    "#These regressions were seeing if there was any correlation between latitude and cloudiness in both the southern and northern hempisheres.\n",
    "#There seems to be a small relationship between latitude and cloudiness in both the northern and southern hemispheres. "
   ]
  },
  {
   "cell_type": "markdown",
   "metadata": {},
   "source": [
    "####  Northern Hemisphere - Wind Speed (mph) vs. Latitude Linear Regression"
   ]
  },
  {
   "cell_type": "code",
   "execution_count": 25,
   "metadata": {},
   "outputs": [
    {
     "name": "stdout",
     "output_type": "stream",
     "text": [
      "The r-squared is: 0.16394292832608184\n"
     ]
    },
    {
     "data": {
      "image/png": "[encoded data removed]",
      "text/plain": [
       "<Figure size 432x288 with 1 Axes>"
      ]
     },
     "metadata": {
      "needs_background": "light"
     },
     "output_type": "display_data"
    }
   ],
   "source": [
    "x_values = northern_hemisphere_df[\"Lat\"]\n",
    "y_values = northern_hemisphere_df[\"Wind Speed\"]\n",
    "(slope, intercept, rvalue, pvalue, stderr) = linregress(x_values, y_values)\n",
    "regress_values = x_values * slope + intercept\n",
    "line_eq = \"y = \" + str(round(slope,2)) + \"x + \" + str(round(intercept,2))\n",
    "plt.scatter(x_values,y_values)\n",
    "plt.plot(x_values,regress_values,\"r-\")\n",
    "plt.annotate(line_eq,(6,10),fontsize=15,color=\"red\")\n",
    "plt.xlabel(\"Latitude\")\n",
    "plt.ylabel(\"Wind Speed (mph)\")\n",
    "plt.title(\"Max Temp vs Wind Speed (mph) in the Northern Hemisphere\")\n",
    "print(f\"The r-squared is: {rvalue}\")\n",
    "plt.show()"
   ]
  },
  {
   "cell_type": "markdown",
   "metadata": {},
   "source": [
    "####  Southern Hemisphere - Wind Speed (mph) vs. Latitude Linear Regression"
   ]
  },
  {
   "cell_type": "code",
   "execution_count": 26,
   "metadata": {},
   "outputs": [
    {
     "name": "stdout",
     "output_type": "stream",
     "text": [
      "The r-squared is: -0.29436351770505215\n"
     ]
    },
    {
     "data": {
      "image/png": "[encoded data removed]",
      "text/plain": [
       "<Figure size 432x288 with 1 Axes>"
      ]
     },
     "metadata": {
      "needs_background": "light"
     },
     "output_type": "display_data"
    }
   ],
   "source": [
    "x_values = southern_hemisphere_df[\"Lat\"]\n",
    "y_values = southern_hemisphere_df[\"Wind Speed\"]\n",
    "(slope, intercept, rvalue, pvalue, stderr) = linregress(x_values, y_values)\n",
    "regress_values = x_values * slope + intercept\n",
    "line_eq = \"y = \" + str(round(slope,2)) + \"x + \" + str(round(intercept,2))\n",
    "plt.scatter(x_values,y_values)\n",
    "plt.plot(x_values,regress_values,\"r-\")\n",
    "plt.annotate(line_eq,(6,10),fontsize=15,color=\"red\")\n",
    "plt.xlabel(\"Latitude\")\n",
    "plt.ylabel(\"Wind Speed (mph)\")\n",
    "plt.title(\"Max Temp vs Wind Speed (mph) in the Southern Hemisphere\")\n",
    "print(f\"The r-squared is: {rvalue}\")\n",
    "plt.show()"
   ]
  },
  {
   "cell_type": "code",
   "execution_count": null,
   "metadata": {},
   "outputs": [],
   "source": [
    "#These regressions were seeing if there was any correlation between latitude and wind speedin both the southern and northern hempisheres.\n",
    "#Wind speed tends to decrease the closer you get to the equator when in the southern hemisphere, but there doesn't seem to be much of a relationship in the northern hemisphere. "
   ]
  }
 ],
 "metadata": {
  "anaconda-cloud": {},
  "kernel_info": {
   "name": "python3"
  },
  "kernelspec": {
   "display_name": "Python 3",
   "language": "python",
   "name": "python3"
  },
  "language_info": {
   "codemirror_mode": {
    "name": "ipython",
    "version": 3
   },
   "file_extension": ".py",
   "mimetype": "text/x-python",
   "name": "python",
   "nbconvert_exporter": "python",
   "pygments_lexer": "ipython3",
   "version": "3.7.4"
  },
  "latex_envs": {
   "LaTeX_envs_menu_present": true,
   "autoclose": false,
   "autocomplete": true,
   "bibliofile": "biblio.bib",
   "cite_by": "apalike",
   "current_citInitial": 1,
   "eqLabelWithNumbers": true,
   "eqNumInitial": 1,
   "hotkeys": {
    "equation": "Ctrl-E",
    "itemize": "Ctrl-I"
   },
   "labels_anchors": false,
   "latex_user_defs": false,
   "report_style_numbering": false,
   "user_envs_cfg": false
  },
  "nteract": {
   "version": "0.12.3"
  }
 },
 "nbformat": 4,
 "nbformat_minor": 2
}
